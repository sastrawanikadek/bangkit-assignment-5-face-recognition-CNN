{
  "nbformat": 4,
  "nbformat_minor": 0,
  "metadata": {
    "colab": {
      "name": "app.ipynb",
      "provenance": [],
      "toc_visible": true,
      "include_colab_link": true
    },
    "kernelspec": {
      "name": "python3",
      "display_name": "Python 3"
    }
  },
  "cells": [
    {
      "cell_type": "markdown",
      "metadata": {
        "id": "view-in-github",
        "colab_type": "text"
      },
      "source": [
        "<a href=\"https://colab.research.google.com/github/sastrawanikadek/bangkit-assignment-5-face-recognition-CNN/blob/master/app.ipynb\" target=\"_parent\"><img src=\"https://colab.research.google.com/assets/colab-badge.svg\" alt=\"Open In Colab\"/></a>"
      ]
    },
    {
      "cell_type": "code",
      "metadata": {
        "id": "TC6TX2aa_ogh",
        "colab_type": "code",
        "colab": {}
      },
      "source": [
        "import numpy as np\n",
        "import cv2\n",
        "import os\n",
        "\n",
        "def main():\n",
        "    angka=1\n",
        "    angka=str(angka)\n",
        "    dim =(320,240)\n",
        "    for file1 in os.listdir('gambar/'):\n",
        "        for file in os.listdir('gambar/mukak ('+ angka +')/'):\n",
        "            print('gambar/mukak ('+ angka +')/')\n",
        "            img = cv2.imread('gambar/mukak ('+ angka +')/'+ file)\n",
        "            img = cv2.cvtColor(img, cv2.COLOR_BGR2GRAY)\n",
        "            img = cerah(img)\n",
        "            resized = cv2.resize(img,dim, interpolation = cv2.INTER_AREA)\n",
        "            cv2.imwrite('gambar/mukak ('+ angka +')/'+file, resized)\n",
        "            print(file + \" - DONE\")\n",
        "            print('Resized Dimensions : ',resized.shape)\n",
        "        angka=int(angka)\n",
        "        angka=angka+1\n",
        "        angka=str(angka)\n",
        "   \n",
        "def cerah(img):\n",
        "    tinggi = img.shape[0]\n",
        "    lebar = img.shape[1]\n",
        "    brightness = 50\n",
        "    for i in np.arange(tinggi):\n",
        "        for j in np.arange(lebar):\n",
        "            a = img.item(i,j)\n",
        "            b = a + brightness\n",
        "            if b > 255:\n",
        "                b = 255\n",
        "            \n",
        "            img.itemset((i,j), b)\n",
        "    return img\n",
        "\n",
        "if __name__ == \"__main__\":\n",
        "    main()\n",
        "    "
      ],
      "execution_count": 0,
      "outputs": []
    }
  ]
}